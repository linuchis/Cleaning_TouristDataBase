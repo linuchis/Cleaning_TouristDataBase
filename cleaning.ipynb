{
 "cells": [
  {
   "cell_type": "code",
   "execution_count": 74,
   "metadata": {},
   "outputs": [],
   "source": [
    "import pandas as pd\n",
    "import numpy as np\n",
    "import matplotlib.pyplot as mp\n",
    "import seaborn as SB"
   ]
  },
  {
   "cell_type": "code",
   "execution_count": 75,
   "metadata": {},
   "outputs": [],
   "source": [
    "data = pd.read_csv('Turistas_v_ctimas_de_delitos_en_Colombia.csv')\n",
    "#si tuviera el csv en otra carpeta tendría que poner la ruta"
   ]
  },
  {
   "cell_type": "code",
   "execution_count": 76,
   "metadata": {},
   "outputs": [
    {
     "name": "stdout",
     "output_type": "stream",
     "text": [
      "(262, 9)\n",
      "<class 'pandas.core.frame.DataFrame'>\n",
      "RangeIndex: 262 entries, 0 to 261\n",
      "Data columns (total 9 columns):\n",
      " #   Column                 Non-Null Count  Dtype \n",
      "---  ------                 --------------  ----- \n",
      " 0   FECHA                  262 non-null    object\n",
      " 1   PAÍS                   72 non-null     object\n",
      " 2   DEPARTAMENTO           262 non-null    object\n",
      " 3   MUNICIPIO              262 non-null    object\n",
      " 4   DELITO                 262 non-null    object\n",
      " 5   PAIS VÍCTIMA           262 non-null    object\n",
      " 6   GENERO                 262 non-null    object\n",
      " 7   ZONA                   262 non-null    object\n",
      " 8   CIRCUNSTANCIASPERSONA  262 non-null    object\n",
      "dtypes: object(9)\n",
      "memory usage: 18.5+ KB\n"
     ]
    }
   ],
   "source": [
    "print(data.shape)\n",
    "data.info()"
   ]
  },
  {
   "cell_type": "code",
   "execution_count": 77,
   "metadata": {},
   "outputs": [
    {
     "name": "stdout",
     "output_type": "stream",
     "text": [
      "(262, 9)\n",
      "<class 'pandas.core.frame.DataFrame'>\n",
      "RangeIndex: 262 entries, 0 to 261\n",
      "Data columns (total 9 columns):\n",
      " #   Column                 Non-Null Count  Dtype \n",
      "---  ------                 --------------  ----- \n",
      " 0   FECHA                  262 non-null    object\n",
      " 1   PAÍS                   72 non-null     object\n",
      " 2   DEPARTAMENTO           262 non-null    object\n",
      " 3   MUNICIPIO              262 non-null    object\n",
      " 4   DELITO                 262 non-null    object\n",
      " 5   PAIS VÍCTIMA           262 non-null    object\n",
      " 6   GENERO                 262 non-null    object\n",
      " 7   ZONA                   262 non-null    object\n",
      " 8   CIRCUNSTANCIASPERSONA  262 non-null    object\n",
      "dtypes: object(9)\n",
      "memory usage: 18.5+ KB\n"
     ]
    }
   ],
   "source": [
    "#Delet the colum PAÍS, we know that everything is about Colombia.\n",
    "\"\"\"data = data.drop(columns=['PAÍS'])\"\"\"\n",
    "print(data.shape)\n",
    "data.info()"
   ]
  },
  {
   "cell_type": "code",
   "execution_count": 78,
   "metadata": {},
   "outputs": [],
   "source": [
    "#conteo de los niveles en las columnas categoricas\n",
    "col_cat = ['']\n"
   ]
  },
  {
   "cell_type": "code",
   "execution_count": 79,
   "metadata": {},
   "outputs": [],
   "source": [
    "#vemos si existen filas repetidas y las borramos"
   ]
  },
  {
   "cell_type": "code",
   "execution_count": null,
   "metadata": {},
   "outputs": [],
   "source": []
  },
  {
   "cell_type": "code",
   "execution_count": null,
   "metadata": {},
   "outputs": [],
   "source": []
  }
 ],
 "metadata": {
  "kernelspec": {
   "display_name": "Python 3.11.0 64-bit",
   "language": "python",
   "name": "python3"
  },
  "language_info": {
   "codemirror_mode": {
    "name": "ipython",
    "version": 3
   },
   "file_extension": ".py",
   "mimetype": "text/x-python",
   "name": "python",
   "nbconvert_exporter": "python",
   "pygments_lexer": "ipython3",
   "version": "3.11.0 (main, Oct 24 2022, 18:26:48) [MSC v.1933 64 bit (AMD64)]"
  },
  "orig_nbformat": 4,
  "vscode": {
   "interpreter": {
    "hash": "a39d05742a6ae64ddea012df0a74980497e07a6148dd8691f1ef9f46b492ec79"
   }
  }
 },
 "nbformat": 4,
 "nbformat_minor": 2
}
