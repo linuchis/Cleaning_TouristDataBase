{
 "cells": [
  {
   "cell_type": "code",
   "execution_count": 6,
   "metadata": {},
   "outputs": [],
   "source": [
    "import pandas as pd\n",
    "import matplotlib.pyplot as mp\n",
    "import seaborn as SB"
   ]
  },
  {
   "cell_type": "code",
   "execution_count": 7,
   "metadata": {},
   "outputs": [],
   "source": [
    "data = pd.read_csv('Turistas_v_ctimas_de_delitos_en_Colombia.csv')\n",
    "#si tuviera el csv en otra carpeta tendría que poner la ruta"
   ]
  },
  {
   "cell_type": "code",
   "execution_count": 8,
   "metadata": {},
   "outputs": [
    {
     "name": "stdout",
     "output_type": "stream",
     "text": [
      "(262, 9)\n",
      "<class 'pandas.core.frame.DataFrame'>\n",
      "RangeIndex: 262 entries, 0 to 261\n",
      "Data columns (total 9 columns):\n",
      " #   Column                 Non-Null Count  Dtype \n",
      "---  ------                 --------------  ----- \n",
      " 0   FECHA                  262 non-null    object\n",
      " 1   PAÍS                   72 non-null     object\n",
      " 2   DEPARTAMENTO           262 non-null    object\n",
      " 3   MUNICIPIO              262 non-null    object\n",
      " 4   DELITO                 262 non-null    object\n",
      " 5   PAIS VÍCTIMA           262 non-null    object\n",
      " 6   GENERO                 262 non-null    object\n",
      " 7   ZONA                   262 non-null    object\n",
      " 8   CIRCUNSTANCIASPERSONA  262 non-null    object\n",
      "dtypes: object(9)\n",
      "memory usage: 18.5+ KB\n"
     ]
    }
   ],
   "source": [
    "print(data.shape)\n",
    "data.info()"
   ]
  },
  {
   "cell_type": "code",
   "execution_count": null,
   "metadata": {},
   "outputs": [],
   "source": []
  },
  {
   "cell_type": "code",
   "execution_count": 9,
   "metadata": {},
   "outputs": [
    {
     "name": "stdout",
     "output_type": "stream",
     "text": [
      "Column FECHA: 165 subnivels\n",
      "Column DEPARTAMENTO: 15 subnivels\n",
      "Column MUNICIPIO: 22 subnivels\n",
      "Column DELITO: 12 subnivels\n",
      "Column PAIS VÍCTIMA: 35 subnivels\n",
      "Column GENERO: 2 subnivels\n",
      "Column ZONA: 2 subnivels\n",
      "Column CIRCUNSTANCIASPERSONA: 35 subnivels\n"
     ]
    }
   ],
   "source": [
    "#exploring categorical column levels\n",
    "col_cat = ['FECHA', 'DEPARTAMENTO', 'MUNICIPIO', 'DELITO', 'PAIS VÍCTIMA', 'GENERO', 'ZONA', 'CIRCUNSTANCIASPERSONA']\n",
    "\n",
    "for col in col_cat:\n",
    "    print(f'Column {col}: {data[col].nunique()} subnivels' )\n"
   ]
  },
  {
   "cell_type": "code",
   "execution_count": 10,
   "metadata": {},
   "outputs": [
    {
     "name": "stdout",
     "output_type": "stream",
     "text": [
      "(262, 9)\n",
      "(254, 9)\n"
     ]
    },
    {
     "data": {
      "text/plain": [
       "\"I would believe that on the same day there could be victims from the same group of tourists, \\nhowever there is no data such as 'name' that characterizes the individuality of each tourist.\""
      ]
     },
     "execution_count": 10,
     "metadata": {},
     "output_type": "execute_result"
    }
   ],
   "source": [
    "#there are not columns with a single level, so we don't make changes\n",
    "#see if there are duplicate rows and delete them\n",
    "\n",
    "print(data.shape)\n",
    "data.drop_duplicates(inplace=True)\n",
    "print(data.shape)\n",
    "\n",
    "\"\"\"I would believe that on the same day there could be victims from the same group of tourists, \n",
    "however there is no data such as 'name' that characterizes the individuality of each tourist.\"\"\""
   ]
  },
  {
   "cell_type": "code",
   "execution_count": 11,
   "metadata": {},
   "outputs": [],
   "source": [
    "#lets see typographical errors in ca\n",
    "\n"
   ]
  },
  {
   "cell_type": "code",
   "execution_count": 12,
   "metadata": {},
   "outputs": [
    {
     "data": {
      "text/plain": [
       "\"data = data.drop(columns=['PAÍS'])\\nprint(data.shape)\\ndata.info()\""
      ]
     },
     "execution_count": 12,
     "metadata": {},
     "output_type": "execute_result"
    }
   ],
   "source": [
    "#Delet the colum PAÍS, we know that everything is about Colombia.\n",
    "\"\"\"data = data.drop(columns=['PAÍS'])\n",
    "print(data.shape)\n",
    "data.info()\"\"\""
   ]
  }
 ],
 "metadata": {
  "kernelspec": {
   "display_name": "Python 3.11.0 64-bit",
   "language": "python",
   "name": "python3"
  },
  "language_info": {
   "codemirror_mode": {
    "name": "ipython",
    "version": 3
   },
   "file_extension": ".py",
   "mimetype": "text/x-python",
   "name": "python",
   "nbconvert_exporter": "python",
   "pygments_lexer": "ipython3",
   "version": "3.11.0 (main, Oct 24 2022, 18:26:48) [MSC v.1933 64 bit (AMD64)]"
  },
  "orig_nbformat": 4,
  "vscode": {
   "interpreter": {
    "hash": "a39d05742a6ae64ddea012df0a74980497e07a6148dd8691f1ef9f46b492ec79"
   }
  }
 },
 "nbformat": 4,
 "nbformat_minor": 2
}
